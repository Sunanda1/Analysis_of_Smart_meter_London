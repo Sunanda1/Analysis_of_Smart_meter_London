{
 "cells": [
  {
   "cell_type": "markdown",
   "metadata": {},
   "source": [
    "# <font color='#114B5F'><p style=\"text-align: center;\">Smart meters in London</p></font>\n",
    "<font color='#114B5F'>NOTE:</font> For visualizations, please refer to the \"Smart_meter_london_visualizations.ipynb\".\n",
    "<font color='#114B5F'>NAMES:</font> Sunanda Daftari & Swaroop Sabnis."
   ]
  },
  {
   "cell_type": "markdown",
   "metadata": {},
   "source": [
    "## <font color='#114B5F'><p><b>Table of Contents</b></p></font>\n",
    "<ol>\n",
    "    <li><a href='#overview-anchor'>Overview</a></li>\n",
    "    <li><a href='#library-anchor'>Import libraries</a></li>\n",
    "    <li><a href='#weather-anchor'>Reading & cleaning weather dataset</a>\n",
    "        <ol style=\"list-style-type: lower-roman;\"><li>creating datetime\n",
    "            <li>creating weather dataframe for 2013\n",
    "            <li> write to csv\n",
    "        </ol>\n",
    "    </li>\n",
    "    <li><a href='#household-anchor'>Reading Household dataset</a>\n",
    "    <li><a href='#block-anchor'>Reading & cleaning Block dataset</a>\n",
    "        <ol style=\"list-style-type: lower-roman;\"><li>Renaming Columns\n",
    "            <li>creating datetime\n",
    "            <li>Merging with household dataframe\n",
    "                <li>write to csv\n",
    "                    \n",
    "        </ol>\n",
    "    </li>\n",
    "</ol>"
   ]
  },
  {
   "cell_type": "markdown",
   "metadata": {},
   "source": [
    "## <font color='#114B5F'><p style=\"text-align: center;\"><a id='overview-anchor'></a>Overview</p></font>\n",
    "<font color='#114B5F'><p>The goal of this analysis is to understand energy consumption pattern in UK and factors influencing it.This dataset was used to understand energy consumption patterns across different ACORN groups. Initial analysis consisted of understanding the different ACORN groups and the difference between them. The next steps of analysis consisted of a deep dive into the dataset which contains the records of household energy consumption (monitored every half hour) to try to establish different consumption patterns based on tariff plans and the ACORN groups. Analysis of weather impacts on energy consumption across groups was also conducted. The resulting output comprised of visualizations of various parameters which exhibit energy consumption trends within and across ACORN groups.</p>"
   ]
  },
  {
   "cell_type": "markdown",
   "metadata": {},
   "source": [
    "## <font color='#114B5F'><p style=\"text-align: center;\"><a id='library-anchor'></a>Import libraries</p></font>"
   ]
  },
  {
   "cell_type": "code",
   "execution_count": 1,
   "metadata": {},
   "outputs": [],
   "source": [
    "# print all the outputs in a cell\n",
    "from IPython.core.interactiveshell import InteractiveShell\n",
    "InteractiveShell.ast_node_interactivity=\"all\"\n",
    "import pandas as pd\n",
    "from datetime import datetime\n",
    "import calendar\n",
    "import warnings\n",
    "warnings.filterwarnings(\"ignore\")"
   ]
  },
  {
   "cell_type": "markdown",
   "metadata": {},
   "source": [
    "## <font color='#114B5F'><p style=\"text-align: center;\"><a id='weather-anchor'></a>Reading & Cleaning Weather Dataset</p></font>"
   ]
  },
  {
   "cell_type": "markdown",
   "metadata": {},
   "source": [
    "<font color='#114B5F'><b> Weather_hourly_darksky.csv :</b> </font>\n",
    "Contains hourly data from darksky api. It consists of hourly weather information across UK including minimum-maximum temperature and wind data."
   ]
  },
  {
   "cell_type": "code",
   "execution_count": 3,
   "metadata": {},
   "outputs": [],
   "source": [
    "# Reading Weather data\n",
    "df_weather = pd.read_csv(\"FinalData_SmartMeter/weather_hourly_darksky.csv\")"
   ]
  },
  {
   "cell_type": "code",
   "execution_count": 4,
   "metadata": {},
   "outputs": [],
   "source": [
    "# Creating date, time related columns\n",
    "df_weather = df_weather[['temperature', 'time']]\n",
    "df_weather.columns = ['temperature', 'DateTime']\n",
    "df_weather['DateTime'] = pd.to_datetime(df_weather['DateTime'])\n",
    "df_weather['year'] = df_weather['DateTime'].dt.year\n",
    "df_weather['month'] = df_weather['DateTime'].dt.month\n",
    "df_weather['day'] = df_weather['DateTime'].dt.day"
   ]
  },
  {
   "cell_type": "code",
   "execution_count": 5,
   "metadata": {},
   "outputs": [],
   "source": [
    "#### Weather information for the year 2013\n",
    "df_weather_2013 = df_weather[df_weather.year==2013][['temperature', 'month']]\n",
    "df_weather_2013 = df_weather_2013.groupby(by=['month'])['temperature'].mean().to_frame()\n",
    "df_weather_2013.reset_index(level=0, inplace=True)\n",
    "df_weather_2013.month = df_weather_2013.month.apply(lambda x: calendar.month_abbr[x])"
   ]
  },
  {
   "cell_type": "code",
   "execution_count": 6,
   "metadata": {},
   "outputs": [],
   "source": [
    "# Creating a CSV file.\n",
    "df_weather_2013.to_csv(\"weather.csv\", index=False, sep=',', encoding='utf-8')"
   ]
  },
  {
   "cell_type": "markdown",
   "metadata": {},
   "source": [
    "## <font color='#114B5F'><p style=\"text-align: center;\"><a id='household-anchor'></a>Reading Household dataset</p></font>"
   ]
  },
  {
   "cell_type": "markdown",
   "metadata": {},
   "source": [
    "<font color='#114B5F'><b> Informations_households.xls :</b> </font>\n",
    "Contains all the information on the households including type of acorn group and type of tariff plan used(Standard/ Dynamic Time of Use) in each household respectively."
   ]
  },
  {
   "cell_type": "code",
   "execution_count": 2,
   "metadata": {},
   "outputs": [],
   "source": [
    "# Reading Household info data\n",
    "df_household = pd.read_csv(\"FinalData_SmartMeter/informations_households.xls\", encoding=\"utf-8\")"
   ]
  },
  {
   "cell_type": "markdown",
   "metadata": {},
   "source": [
    "## <font color='#114B5F'><p style=\"text-align: center;\"><a id='block-anchor'></a>Reading & Cleaning Block dataset</p></font>"
   ]
  },
  {
   "cell_type": "markdown",
   "metadata": {},
   "source": [
    "<font color='#114B5F'><b>Halfhourly_dataset.zip :</b> </font>\n",
    "<p>Zip file contains the block files with the half-hourly smart meter measurement.  For this analysis, the following blocks were used.</p>\n",
    "<p>Blocks used : Block_0, Block_2, Block_4, Block_62, Block_78, Block_79, Block_80, Block_95, Block_96, Block_105</p>\n",
    "<p>For this analysis, households belonging to Affluent Achievers, Comfortable Communities and Urban Adversity ACORN groups were only considered.</p> "
   ]
  },
  {
   "cell_type": "markdown",
   "metadata": {},
   "source": [
    "<font color='#114B5F'><b>Block_0 dataset</b> </font>"
   ]
  },
  {
   "cell_type": "code",
   "execution_count": 7,
   "metadata": {},
   "outputs": [],
   "source": [
    "# Reading Block_0\n",
    "df_block_0 = pd.read_csv(\"FinalData_SmartMeter/block_0.csv\", engine='python')"
   ]
  },
  {
   "cell_type": "code",
   "execution_count": 8,
   "metadata": {},
   "outputs": [],
   "source": [
    "# Renaming the columns\n",
    "df_block_0.columns = ['LCLid', 'DateTime', 'KWh']"
   ]
  },
  {
   "cell_type": "code",
   "execution_count": 9,
   "metadata": {},
   "outputs": [],
   "source": [
    "# Creating date, time related columns\n",
    "df_block_0['DateTime'] = pd.to_datetime(df_block_0['DateTime'])\n",
    "df_block_0['year'] = df_block_0['DateTime'].dt.year\n",
    "df_block_0['month'] = df_block_0['DateTime'].dt.month\n",
    "df_block_0['day'] = df_block_0['DateTime'].dt.day\n",
    "df_block_0['hour'] = df_block_0['DateTime'].dt.hour\n",
    "df_block_0['date'] = df_block_0['DateTime'].dt.date"
   ]
  },
  {
   "cell_type": "code",
   "execution_count": 10,
   "metadata": {},
   "outputs": [],
   "source": [
    "# Creating time column which has time in 12 hour with AM/PM format\n",
    "format = '%I:%M %p'\n",
    "df_block_0['time'] = df_block_0['DateTime'].dt.time.apply(lambda x: x.strftime(format))"
   ]
  },
  {
   "cell_type": "code",
   "execution_count": 11,
   "metadata": {},
   "outputs": [],
   "source": [
    "# Cleaning \n",
    "df_block_0.loc[(df_block_0.time=='12:32 PM'), 'time'] = '12:30 PM'\n",
    "df_block_0.loc[(df_block_0.time=='12:37 PM'), 'time'] = '12:30 PM'\n",
    "df_block_0.loc[(df_block_0.time=='03:13 PM'), 'time'] = '03:00 PM'\n",
    "df_block_0.loc[(df_block_0.time=='03:15 PM'), 'time'] = '03:00 PM'"
   ]
  },
  {
   "cell_type": "markdown",
   "metadata": {},
   "source": [
    "<font color='#114B5F'><b>Merge Block 0 with Household_info </b> </font>"
   ]
  },
  {
   "cell_type": "code",
   "execution_count": 12,
   "metadata": {},
   "outputs": [
    {
     "data": {
      "text/plain": [
       "5566"
      ]
     },
     "execution_count": 12,
     "metadata": {},
     "output_type": "execute_result"
    }
   ],
   "source": [
    "# Total no. of households in the datasets\n",
    "df_household.LCLid.nunique()"
   ]
  },
  {
   "cell_type": "code",
   "execution_count": 13,
   "metadata": {},
   "outputs": [],
   "source": [
    "# Merging\n",
    "df_block_0_info = df_block_0.merge(df_household, on='LCLid', how='left')"
   ]
  },
  {
   "cell_type": "code",
   "execution_count": 14,
   "metadata": {},
   "outputs": [],
   "source": [
    "df_block_0_info.drop(['file'], axis=1, inplace=True)"
   ]
  },
  {
   "cell_type": "code",
   "execution_count": 15,
   "metadata": {},
   "outputs": [],
   "source": [
    "# Cleaning: Converting 'ACORN-*' to '*'\n",
    "df_block_0_info['Acorn'] = df_block_0_info['Acorn'].str.replace('ACORN-', \"\")"
   ]
  },
  {
   "cell_type": "code",
   "execution_count": 16,
   "metadata": {
    "scrolled": false
   },
   "outputs": [
    {
     "data": {
      "text/html": [
       "<div>\n",
       "<style scoped>\n",
       "    .dataframe tbody tr th:only-of-type {\n",
       "        vertical-align: middle;\n",
       "    }\n",
       "\n",
       "    .dataframe tbody tr th {\n",
       "        vertical-align: top;\n",
       "    }\n",
       "\n",
       "    .dataframe thead th {\n",
       "        text-align: right;\n",
       "    }\n",
       "</style>\n",
       "<table border=\"1\" class=\"dataframe\">\n",
       "  <thead>\n",
       "    <tr style=\"text-align: right;\">\n",
       "      <th></th>\n",
       "      <th>LCLid</th>\n",
       "      <th>DateTime</th>\n",
       "      <th>KWh</th>\n",
       "      <th>year</th>\n",
       "      <th>month</th>\n",
       "      <th>day</th>\n",
       "      <th>hour</th>\n",
       "      <th>date</th>\n",
       "      <th>time</th>\n",
       "      <th>stdorToU</th>\n",
       "      <th>Acorn</th>\n",
       "      <th>Acorn_grouped</th>\n",
       "    </tr>\n",
       "  </thead>\n",
       "  <tbody>\n",
       "    <tr>\n",
       "      <th>0</th>\n",
       "      <td>MAC000002</td>\n",
       "      <td>2012-10-12 00:30:00</td>\n",
       "      <td>0</td>\n",
       "      <td>2012</td>\n",
       "      <td>10</td>\n",
       "      <td>12</td>\n",
       "      <td>0</td>\n",
       "      <td>2012-10-12</td>\n",
       "      <td>12:30 AM</td>\n",
       "      <td>Std</td>\n",
       "      <td>A</td>\n",
       "      <td>Affluent</td>\n",
       "    </tr>\n",
       "    <tr>\n",
       "      <th>1</th>\n",
       "      <td>MAC000002</td>\n",
       "      <td>2012-10-12 01:00:00</td>\n",
       "      <td>0</td>\n",
       "      <td>2012</td>\n",
       "      <td>10</td>\n",
       "      <td>12</td>\n",
       "      <td>1</td>\n",
       "      <td>2012-10-12</td>\n",
       "      <td>01:00 AM</td>\n",
       "      <td>Std</td>\n",
       "      <td>A</td>\n",
       "      <td>Affluent</td>\n",
       "    </tr>\n",
       "  </tbody>\n",
       "</table>\n",
       "</div>"
      ],
      "text/plain": [
       "       LCLid            DateTime  KWh  year  month  day  hour        date  \\\n",
       "0  MAC000002 2012-10-12 00:30:00   0   2012     10   12     0  2012-10-12   \n",
       "1  MAC000002 2012-10-12 01:00:00   0   2012     10   12     1  2012-10-12   \n",
       "\n",
       "       time stdorToU Acorn Acorn_grouped  \n",
       "0  12:30 AM      Std     A      Affluent  \n",
       "1  01:00 AM      Std     A      Affluent  "
      ]
     },
     "execution_count": 16,
     "metadata": {},
     "output_type": "execute_result"
    }
   ],
   "source": [
    "df_block_0_info.head(2)"
   ]
  },
  {
   "cell_type": "code",
   "execution_count": 17,
   "metadata": {},
   "outputs": [
    {
     "data": {
      "text/plain": [
       "array(['Std'], dtype=object)"
      ]
     },
     "execution_count": 17,
     "metadata": {},
     "output_type": "execute_result"
    }
   ],
   "source": [
    "df_block_0_info['stdorToU'].unique()"
   ]
  },
  {
   "cell_type": "code",
   "execution_count": 20,
   "metadata": {},
   "outputs": [
    {
     "data": {
      "text/plain": [
       "array(['Affluent', 'Adversity', 'Comfortable'], dtype=object)"
      ]
     },
     "execution_count": 20,
     "metadata": {},
     "output_type": "execute_result"
    }
   ],
   "source": [
    "df_block_0_info['Acorn_grouped'].unique()"
   ]
  },
  {
   "cell_type": "code",
   "execution_count": 21,
   "metadata": {},
   "outputs": [],
   "source": [
    "# cleaning(Removing the rows which are classified as 'ACORN-U')\n",
    "df_block_0_info = df_block_0_info[(df_block_0_info['Acorn_grouped']!='ACORN-U')]\n"
   ]
  },
  {
   "cell_type": "markdown",
   "metadata": {},
   "source": [
    "Block_0_info does not have any households that belong to DToU tariff plan. So, to include households \n",
    "belonging to DToU tariff plan, following blocks were taken."
   ]
  },
  {
   "cell_type": "markdown",
   "metadata": {},
   "source": [
    "<font color='#114B5F'><b>Block 2 dataset</b> </font>"
   ]
  },
  {
   "cell_type": "code",
   "execution_count": 22,
   "metadata": {},
   "outputs": [],
   "source": [
    "# Reading block_2 data\n",
    "df_block_2 = pd.read_csv(\"FinalData_SmartMeter/block_2.csv\", engine='python')"
   ]
  },
  {
   "cell_type": "code",
   "execution_count": 23,
   "metadata": {},
   "outputs": [],
   "source": [
    "# Renaming the columns\n",
    "df_block_2.columns = ['LCLid', 'DateTime', 'KWh']"
   ]
  },
  {
   "cell_type": "code",
   "execution_count": 24,
   "metadata": {},
   "outputs": [],
   "source": [
    "# Creating date, time related columns\n",
    "df_block_2['DateTime'] = pd.to_datetime(df_block_2['DateTime'])\n",
    "df_block_2['year'] = df_block_2['DateTime'].dt.year\n",
    "df_block_2['month'] = df_block_2['DateTime'].dt.month\n",
    "df_block_2['day'] = df_block_2['DateTime'].dt.day\n",
    "df_block_2['hour'] = df_block_2['DateTime'].dt.hour\n",
    "df_block_2['date'] = df_block_2['DateTime'].dt.date"
   ]
  },
  {
   "cell_type": "code",
   "execution_count": 25,
   "metadata": {},
   "outputs": [],
   "source": [
    "# Creating time column which has time in 12 hour with AM/PM format\n",
    "df_block_2['time'] = df_block_2['DateTime'].dt.time.apply(lambda x: x.strftime(format))"
   ]
  },
  {
   "cell_type": "markdown",
   "metadata": {},
   "source": [
    "<font color='#114B5F'><b>Merge Block 2 with Household_info </b> </font>"
   ]
  },
  {
   "cell_type": "code",
   "execution_count": 26,
   "metadata": {},
   "outputs": [],
   "source": [
    "df_block_2_info = df_block_2.merge(df_household, on='LCLid', how='left')"
   ]
  },
  {
   "cell_type": "code",
   "execution_count": 27,
   "metadata": {},
   "outputs": [],
   "source": [
    "df_block_2_info.drop(['file'], axis=1, inplace=True)"
   ]
  },
  {
   "cell_type": "code",
   "execution_count": 28,
   "metadata": {},
   "outputs": [],
   "source": [
    "# Cleaning: Converting 'ACORN-*' to '*'\n",
    "df_block_2_info['Acorn'] = df_block_2_info['Acorn'].str.replace('ACORN-', \"\")"
   ]
  },
  {
   "cell_type": "code",
   "execution_count": 29,
   "metadata": {},
   "outputs": [
    {
     "data": {
      "text/html": [
       "<div>\n",
       "<style scoped>\n",
       "    .dataframe tbody tr th:only-of-type {\n",
       "        vertical-align: middle;\n",
       "    }\n",
       "\n",
       "    .dataframe tbody tr th {\n",
       "        vertical-align: top;\n",
       "    }\n",
       "\n",
       "    .dataframe thead th {\n",
       "        text-align: right;\n",
       "    }\n",
       "</style>\n",
       "<table border=\"1\" class=\"dataframe\">\n",
       "  <thead>\n",
       "    <tr style=\"text-align: right;\">\n",
       "      <th></th>\n",
       "      <th>LCLid</th>\n",
       "      <th>DateTime</th>\n",
       "      <th>KWh</th>\n",
       "      <th>year</th>\n",
       "      <th>month</th>\n",
       "      <th>day</th>\n",
       "      <th>hour</th>\n",
       "      <th>date</th>\n",
       "      <th>time</th>\n",
       "      <th>stdorToU</th>\n",
       "      <th>Acorn</th>\n",
       "      <th>Acorn_grouped</th>\n",
       "    </tr>\n",
       "  </thead>\n",
       "  <tbody>\n",
       "    <tr>\n",
       "      <th>0</th>\n",
       "      <td>MAC000030</td>\n",
       "      <td>2011-12-07 11:30:00</td>\n",
       "      <td>0.398</td>\n",
       "      <td>2011</td>\n",
       "      <td>12</td>\n",
       "      <td>7</td>\n",
       "      <td>11</td>\n",
       "      <td>2011-12-07</td>\n",
       "      <td>11:30 AM</td>\n",
       "      <td>Std</td>\n",
       "      <td>A</td>\n",
       "      <td>Affluent</td>\n",
       "    </tr>\n",
       "    <tr>\n",
       "      <th>1</th>\n",
       "      <td>MAC000030</td>\n",
       "      <td>2011-12-07 12:00:00</td>\n",
       "      <td>0.578</td>\n",
       "      <td>2011</td>\n",
       "      <td>12</td>\n",
       "      <td>7</td>\n",
       "      <td>12</td>\n",
       "      <td>2011-12-07</td>\n",
       "      <td>12:00 PM</td>\n",
       "      <td>Std</td>\n",
       "      <td>A</td>\n",
       "      <td>Affluent</td>\n",
       "    </tr>\n",
       "  </tbody>\n",
       "</table>\n",
       "</div>"
      ],
      "text/plain": [
       "       LCLid            DateTime      KWh  year  month  day  hour        date  \\\n",
       "0  MAC000030 2011-12-07 11:30:00   0.398   2011     12    7    11  2011-12-07   \n",
       "1  MAC000030 2011-12-07 12:00:00   0.578   2011     12    7    12  2011-12-07   \n",
       "\n",
       "       time stdorToU Acorn Acorn_grouped  \n",
       "0  11:30 AM      Std     A      Affluent  \n",
       "1  12:00 PM      Std     A      Affluent  "
      ]
     },
     "execution_count": 29,
     "metadata": {},
     "output_type": "execute_result"
    }
   ],
   "source": [
    "df_block_2_info.head(2)"
   ]
  },
  {
   "cell_type": "code",
   "execution_count": 30,
   "metadata": {},
   "outputs": [
    {
     "data": {
      "text/plain": [
       "array(['Affluent'], dtype=object)"
      ]
     },
     "execution_count": 30,
     "metadata": {},
     "output_type": "execute_result"
    }
   ],
   "source": [
    "df_block_2_info['Acorn_grouped'].unique()"
   ]
  },
  {
   "cell_type": "markdown",
   "metadata": {},
   "source": [
    "<font color='#114B5F'><b>Block 4 dataset </b> </font>"
   ]
  },
  {
   "cell_type": "code",
   "execution_count": 31,
   "metadata": {},
   "outputs": [],
   "source": [
    "# Reading block_4 data\n",
    "df_block_4 = pd.read_csv(\"FinalData_SmartMeter/block_4.csv\", engine='python')"
   ]
  },
  {
   "cell_type": "code",
   "execution_count": 32,
   "metadata": {},
   "outputs": [],
   "source": [
    "# Renaming the columns\n",
    "df_block_4.columns = ['LCLid', 'DateTime', 'KWh']"
   ]
  },
  {
   "cell_type": "code",
   "execution_count": 33,
   "metadata": {},
   "outputs": [],
   "source": [
    "# Creating date, time related columns\n",
    "df_block_4['DateTime'] = pd.to_datetime(df_block_4['DateTime'])\n",
    "df_block_4['year'] = df_block_4['DateTime'].dt.year\n",
    "df_block_4['month'] = df_block_4['DateTime'].dt.month\n",
    "df_block_4['day'] = df_block_4['DateTime'].dt.day\n",
    "df_block_4['hour'] = df_block_4['DateTime'].dt.hour\n",
    "df_block_4['date'] = df_block_4['DateTime'].dt.date"
   ]
  },
  {
   "cell_type": "code",
   "execution_count": 34,
   "metadata": {},
   "outputs": [],
   "source": [
    "# Creating time column which has time in 12 hour with AM/PM format\n",
    "df_block_4['time'] = df_block_4['DateTime'].dt.time.apply(lambda x: x.strftime(format))"
   ]
  },
  {
   "cell_type": "markdown",
   "metadata": {},
   "source": [
    "<font color='#114B5F'><b>Merge Block 4 with Household_info </b> </font>"
   ]
  },
  {
   "cell_type": "code",
   "execution_count": 35,
   "metadata": {},
   "outputs": [],
   "source": [
    "df_block_4_info = df_block_4.merge(df_household, on='LCLid', how='left')"
   ]
  },
  {
   "cell_type": "code",
   "execution_count": 36,
   "metadata": {},
   "outputs": [],
   "source": [
    "df_block_4_info.drop(['file'], axis=1, inplace=True)"
   ]
  },
  {
   "cell_type": "code",
   "execution_count": 37,
   "metadata": {},
   "outputs": [],
   "source": [
    "# Cleaning: Converting 'ACORN-*' to '*'\n",
    "df_block_4_info['Acorn'] = df_block_4_info['Acorn'].str.replace('ACORN-',\"\")"
   ]
  },
  {
   "cell_type": "code",
   "execution_count": 38,
   "metadata": {},
   "outputs": [
    {
     "data": {
      "text/html": [
       "<div>\n",
       "<style scoped>\n",
       "    .dataframe tbody tr th:only-of-type {\n",
       "        vertical-align: middle;\n",
       "    }\n",
       "\n",
       "    .dataframe tbody tr th {\n",
       "        vertical-align: top;\n",
       "    }\n",
       "\n",
       "    .dataframe thead th {\n",
       "        text-align: right;\n",
       "    }\n",
       "</style>\n",
       "<table border=\"1\" class=\"dataframe\">\n",
       "  <thead>\n",
       "    <tr style=\"text-align: right;\">\n",
       "      <th></th>\n",
       "      <th>LCLid</th>\n",
       "      <th>DateTime</th>\n",
       "      <th>KWh</th>\n",
       "      <th>year</th>\n",
       "      <th>month</th>\n",
       "      <th>day</th>\n",
       "      <th>hour</th>\n",
       "      <th>date</th>\n",
       "      <th>time</th>\n",
       "      <th>stdorToU</th>\n",
       "      <th>Acorn</th>\n",
       "      <th>Acorn_grouped</th>\n",
       "    </tr>\n",
       "  </thead>\n",
       "  <tbody>\n",
       "    <tr>\n",
       "      <th>0</th>\n",
       "      <td>MAC000517</td>\n",
       "      <td>2012-03-27 11:30:00</td>\n",
       "      <td>0.305</td>\n",
       "      <td>2012</td>\n",
       "      <td>3</td>\n",
       "      <td>27</td>\n",
       "      <td>11</td>\n",
       "      <td>2012-03-27</td>\n",
       "      <td>11:30 AM</td>\n",
       "      <td>Std</td>\n",
       "      <td>C</td>\n",
       "      <td>Affluent</td>\n",
       "    </tr>\n",
       "    <tr>\n",
       "      <th>1</th>\n",
       "      <td>MAC000517</td>\n",
       "      <td>2012-03-27 12:00:00</td>\n",
       "      <td>0.118</td>\n",
       "      <td>2012</td>\n",
       "      <td>3</td>\n",
       "      <td>27</td>\n",
       "      <td>12</td>\n",
       "      <td>2012-03-27</td>\n",
       "      <td>12:00 PM</td>\n",
       "      <td>Std</td>\n",
       "      <td>C</td>\n",
       "      <td>Affluent</td>\n",
       "    </tr>\n",
       "  </tbody>\n",
       "</table>\n",
       "</div>"
      ],
      "text/plain": [
       "       LCLid            DateTime      KWh  year  month  day  hour        date  \\\n",
       "0  MAC000517 2012-03-27 11:30:00   0.305   2012      3   27    11  2012-03-27   \n",
       "1  MAC000517 2012-03-27 12:00:00   0.118   2012      3   27    12  2012-03-27   \n",
       "\n",
       "       time stdorToU Acorn Acorn_grouped  \n",
       "0  11:30 AM      Std     C      Affluent  \n",
       "1  12:00 PM      Std     C      Affluent  "
      ]
     },
     "execution_count": 38,
     "metadata": {},
     "output_type": "execute_result"
    }
   ],
   "source": [
    "df_block_4_info.head(2)"
   ]
  },
  {
   "cell_type": "code",
   "execution_count": 39,
   "metadata": {},
   "outputs": [
    {
     "data": {
      "text/plain": [
       "array(['Affluent'], dtype=object)"
      ]
     },
     "execution_count": 39,
     "metadata": {},
     "output_type": "execute_result"
    }
   ],
   "source": [
    "df_block_4_info['Acorn_grouped'].unique()"
   ]
  },
  {
   "cell_type": "markdown",
   "metadata": {},
   "source": [
    "<font color='#114B5F'><b>Block 62 dataset</b> </font>"
   ]
  },
  {
   "cell_type": "code",
   "execution_count": 40,
   "metadata": {},
   "outputs": [],
   "source": [
    "# Reading block_62 data\n",
    "df_block_62 = pd.read_csv(\"FinalData_SmartMeter/block_62.csv\", engine='python')"
   ]
  },
  {
   "cell_type": "code",
   "execution_count": 41,
   "metadata": {},
   "outputs": [],
   "source": [
    "# Renaming columns\n",
    "df_block_62.columns = ['LCLid', 'DateTime', 'KWh']"
   ]
  },
  {
   "cell_type": "code",
   "execution_count": 42,
   "metadata": {},
   "outputs": [],
   "source": [
    "# Creating date, time related columns\n",
    "df_block_62['DateTime'] = pd.to_datetime(df_block_62['DateTime'])\n",
    "df_block_62['year'] = df_block_62['DateTime'].dt.year\n",
    "df_block_62['month'] = df_block_62['DateTime'].dt.month\n",
    "df_block_62['day'] = df_block_62['DateTime'].dt.day\n",
    "df_block_62['hour'] = df_block_62['DateTime'].dt.hour\n",
    "df_block_62['date'] = df_block_62['DateTime'].dt.date"
   ]
  },
  {
   "cell_type": "code",
   "execution_count": 43,
   "metadata": {},
   "outputs": [],
   "source": [
    "# Creating time column which has time in 12 hour with AM/PM format\n",
    "df_block_62['time'] = df_block_62['DateTime'].dt.time.apply(lambda x: x.strftime(format))"
   ]
  },
  {
   "cell_type": "markdown",
   "metadata": {},
   "source": [
    "<font color='#114B5F'><b>Merge Block 62 with Household_info </b> </font>"
   ]
  },
  {
   "cell_type": "code",
   "execution_count": 44,
   "metadata": {},
   "outputs": [],
   "source": [
    "df_block_62_info = df_block_62.merge(df_household, on='LCLid', how='left')"
   ]
  },
  {
   "cell_type": "code",
   "execution_count": 45,
   "metadata": {},
   "outputs": [],
   "source": [
    "df_block_62_info.drop(['file'], axis=1, inplace=True)"
   ]
  },
  {
   "cell_type": "code",
   "execution_count": 46,
   "metadata": {},
   "outputs": [],
   "source": [
    "# Cleaning: Converting 'ACORN-*' to '*'\n",
    "df_block_62_info['Acorn'] = df_block_62_info['Acorn'].str.replace('ACORN-', \"\")"
   ]
  },
  {
   "cell_type": "code",
   "execution_count": 47,
   "metadata": {},
   "outputs": [
    {
     "data": {
      "text/html": [
       "<div>\n",
       "<style scoped>\n",
       "    .dataframe tbody tr th:only-of-type {\n",
       "        vertical-align: middle;\n",
       "    }\n",
       "\n",
       "    .dataframe tbody tr th {\n",
       "        vertical-align: top;\n",
       "    }\n",
       "\n",
       "    .dataframe thead th {\n",
       "        text-align: right;\n",
       "    }\n",
       "</style>\n",
       "<table border=\"1\" class=\"dataframe\">\n",
       "  <thead>\n",
       "    <tr style=\"text-align: right;\">\n",
       "      <th></th>\n",
       "      <th>LCLid</th>\n",
       "      <th>DateTime</th>\n",
       "      <th>KWh</th>\n",
       "      <th>year</th>\n",
       "      <th>month</th>\n",
       "      <th>day</th>\n",
       "      <th>hour</th>\n",
       "      <th>date</th>\n",
       "      <th>time</th>\n",
       "      <th>stdorToU</th>\n",
       "      <th>Acorn</th>\n",
       "      <th>Acorn_grouped</th>\n",
       "    </tr>\n",
       "  </thead>\n",
       "  <tbody>\n",
       "    <tr>\n",
       "      <th>0</th>\n",
       "      <td>MAC000010</td>\n",
       "      <td>2012-09-24 12:30:00</td>\n",
       "      <td>0.918</td>\n",
       "      <td>2012</td>\n",
       "      <td>9</td>\n",
       "      <td>24</td>\n",
       "      <td>12</td>\n",
       "      <td>2012-09-24</td>\n",
       "      <td>12:30 PM</td>\n",
       "      <td>Std</td>\n",
       "      <td>H</td>\n",
       "      <td>Comfortable</td>\n",
       "    </tr>\n",
       "    <tr>\n",
       "      <th>1</th>\n",
       "      <td>MAC000010</td>\n",
       "      <td>2012-09-24 13:00:00</td>\n",
       "      <td>0.973</td>\n",
       "      <td>2012</td>\n",
       "      <td>9</td>\n",
       "      <td>24</td>\n",
       "      <td>13</td>\n",
       "      <td>2012-09-24</td>\n",
       "      <td>01:00 PM</td>\n",
       "      <td>Std</td>\n",
       "      <td>H</td>\n",
       "      <td>Comfortable</td>\n",
       "    </tr>\n",
       "    <tr>\n",
       "      <th>2</th>\n",
       "      <td>MAC000010</td>\n",
       "      <td>2012-09-24 13:30:00</td>\n",
       "      <td>0.515</td>\n",
       "      <td>2012</td>\n",
       "      <td>9</td>\n",
       "      <td>24</td>\n",
       "      <td>13</td>\n",
       "      <td>2012-09-24</td>\n",
       "      <td>01:30 PM</td>\n",
       "      <td>Std</td>\n",
       "      <td>H</td>\n",
       "      <td>Comfortable</td>\n",
       "    </tr>\n",
       "    <tr>\n",
       "      <th>3</th>\n",
       "      <td>MAC000010</td>\n",
       "      <td>2012-09-24 14:00:00</td>\n",
       "      <td>0.281</td>\n",
       "      <td>2012</td>\n",
       "      <td>9</td>\n",
       "      <td>24</td>\n",
       "      <td>14</td>\n",
       "      <td>2012-09-24</td>\n",
       "      <td>02:00 PM</td>\n",
       "      <td>Std</td>\n",
       "      <td>H</td>\n",
       "      <td>Comfortable</td>\n",
       "    </tr>\n",
       "    <tr>\n",
       "      <th>4</th>\n",
       "      <td>MAC000010</td>\n",
       "      <td>2012-09-24 14:30:00</td>\n",
       "      <td>0.28</td>\n",
       "      <td>2012</td>\n",
       "      <td>9</td>\n",
       "      <td>24</td>\n",
       "      <td>14</td>\n",
       "      <td>2012-09-24</td>\n",
       "      <td>02:30 PM</td>\n",
       "      <td>Std</td>\n",
       "      <td>H</td>\n",
       "      <td>Comfortable</td>\n",
       "    </tr>\n",
       "  </tbody>\n",
       "</table>\n",
       "</div>"
      ],
      "text/plain": [
       "       LCLid            DateTime      KWh  year  month  day  hour        date  \\\n",
       "0  MAC000010 2012-09-24 12:30:00   0.918   2012      9   24    12  2012-09-24   \n",
       "1  MAC000010 2012-09-24 13:00:00   0.973   2012      9   24    13  2012-09-24   \n",
       "2  MAC000010 2012-09-24 13:30:00   0.515   2012      9   24    13  2012-09-24   \n",
       "3  MAC000010 2012-09-24 14:00:00   0.281   2012      9   24    14  2012-09-24   \n",
       "4  MAC000010 2012-09-24 14:30:00    0.28   2012      9   24    14  2012-09-24   \n",
       "\n",
       "       time stdorToU Acorn Acorn_grouped  \n",
       "0  12:30 PM      Std     H   Comfortable  \n",
       "1  01:00 PM      Std     H   Comfortable  \n",
       "2  01:30 PM      Std     H   Comfortable  \n",
       "3  02:00 PM      Std     H   Comfortable  \n",
       "4  02:30 PM      Std     H   Comfortable  "
      ]
     },
     "execution_count": 47,
     "metadata": {},
     "output_type": "execute_result"
    }
   ],
   "source": [
    "df_block_62_info.head()\n"
   ]
  },
  {
   "cell_type": "code",
   "execution_count": 48,
   "metadata": {},
   "outputs": [
    {
     "data": {
      "text/plain": [
       "array(['Comfortable'], dtype=object)"
      ]
     },
     "execution_count": 48,
     "metadata": {},
     "output_type": "execute_result"
    }
   ],
   "source": [
    "df_block_62_info['Acorn_grouped'].unique()"
   ]
  },
  {
   "cell_type": "markdown",
   "metadata": {},
   "source": [
    "<font color='#114B5F'><b>Block 78 dataset </b> </font>"
   ]
  },
  {
   "cell_type": "code",
   "execution_count": 49,
   "metadata": {},
   "outputs": [],
   "source": [
    "# Reading block_78 data\n",
    "df_block_78 = pd.read_csv(\"FinalData_SmartMeter/block_78.csv\", engine='python')"
   ]
  },
  {
   "cell_type": "code",
   "execution_count": 50,
   "metadata": {},
   "outputs": [],
   "source": [
    "# Renaming the columns\n",
    "df_block_78.columns = ['LCLid', 'DateTime', 'KWh']"
   ]
  },
  {
   "cell_type": "code",
   "execution_count": 51,
   "metadata": {},
   "outputs": [],
   "source": [
    "# Creating date, time related columns\n",
    "df_block_78['DateTime'] = pd.to_datetime(df_block_78['DateTime'])\n",
    "df_block_78['year'] = df_block_78['DateTime'].dt.year\n",
    "df_block_78['month'] = df_block_78['DateTime'].dt.month\n",
    "df_block_78['day'] = df_block_78['DateTime'].dt.day\n",
    "df_block_78['hour'] = df_block_78['DateTime'].dt.hour\n",
    "df_block_78['date'] = df_block_78['DateTime'].dt.date"
   ]
  },
  {
   "cell_type": "code",
   "execution_count": 52,
   "metadata": {},
   "outputs": [],
   "source": [
    "# Creating time column which has time in 12 hour with AM/PM format\n",
    "df_block_78['time'] = df_block_78['DateTime'].dt.time.apply(lambda x: x.strftime(format))"
   ]
  },
  {
   "cell_type": "markdown",
   "metadata": {},
   "source": [
    "<font color='#114B5F'><b>Merge Block 78 with Household_info </b> </font>"
   ]
  },
  {
   "cell_type": "code",
   "execution_count": 53,
   "metadata": {},
   "outputs": [],
   "source": [
    "df_block_78_info = df_block_78.merge(df_household, on='LCLid', how='left')"
   ]
  },
  {
   "cell_type": "code",
   "execution_count": 54,
   "metadata": {},
   "outputs": [],
   "source": [
    "df_block_78_info.drop(['file'], axis=1, inplace=True)"
   ]
  },
  {
   "cell_type": "code",
   "execution_count": 55,
   "metadata": {},
   "outputs": [],
   "source": [
    "# Cleaning: Converting 'ACORN-*' to '*'\n",
    "df_block_78_info['Acorn'] = df_block_78_info['Acorn'].str.replace('ACORN-', \"\")"
   ]
  },
  {
   "cell_type": "code",
   "execution_count": 56,
   "metadata": {},
   "outputs": [
    {
     "data": {
      "text/html": [
       "<div>\n",
       "<style scoped>\n",
       "    .dataframe tbody tr th:only-of-type {\n",
       "        vertical-align: middle;\n",
       "    }\n",
       "\n",
       "    .dataframe tbody tr th {\n",
       "        vertical-align: top;\n",
       "    }\n",
       "\n",
       "    .dataframe thead th {\n",
       "        text-align: right;\n",
       "    }\n",
       "</style>\n",
       "<table border=\"1\" class=\"dataframe\">\n",
       "  <thead>\n",
       "    <tr style=\"text-align: right;\">\n",
       "      <th></th>\n",
       "      <th>LCLid</th>\n",
       "      <th>DateTime</th>\n",
       "      <th>KWh</th>\n",
       "      <th>year</th>\n",
       "      <th>month</th>\n",
       "      <th>day</th>\n",
       "      <th>hour</th>\n",
       "      <th>date</th>\n",
       "      <th>time</th>\n",
       "      <th>stdorToU</th>\n",
       "      <th>Acorn</th>\n",
       "      <th>Acorn_grouped</th>\n",
       "    </tr>\n",
       "  </thead>\n",
       "  <tbody>\n",
       "    <tr>\n",
       "      <th>0</th>\n",
       "      <td>MAC000101</td>\n",
       "      <td>2011-12-12 19:00:00</td>\n",
       "      <td>0.219</td>\n",
       "      <td>2011</td>\n",
       "      <td>12</td>\n",
       "      <td>12</td>\n",
       "      <td>19</td>\n",
       "      <td>2011-12-12</td>\n",
       "      <td>07:00 PM</td>\n",
       "      <td>Std</td>\n",
       "      <td>L</td>\n",
       "      <td>Adversity</td>\n",
       "    </tr>\n",
       "    <tr>\n",
       "      <th>1</th>\n",
       "      <td>MAC000101</td>\n",
       "      <td>2011-12-12 19:30:00</td>\n",
       "      <td>0.202</td>\n",
       "      <td>2011</td>\n",
       "      <td>12</td>\n",
       "      <td>12</td>\n",
       "      <td>19</td>\n",
       "      <td>2011-12-12</td>\n",
       "      <td>07:30 PM</td>\n",
       "      <td>Std</td>\n",
       "      <td>L</td>\n",
       "      <td>Adversity</td>\n",
       "    </tr>\n",
       "  </tbody>\n",
       "</table>\n",
       "</div>"
      ],
      "text/plain": [
       "       LCLid            DateTime      KWh  year  month  day  hour        date  \\\n",
       "0  MAC000101 2011-12-12 19:00:00   0.219   2011     12   12    19  2011-12-12   \n",
       "1  MAC000101 2011-12-12 19:30:00   0.202   2011     12   12    19  2011-12-12   \n",
       "\n",
       "       time stdorToU Acorn Acorn_grouped  \n",
       "0  07:00 PM      Std     L     Adversity  \n",
       "1  07:30 PM      Std     L     Adversity  "
      ]
     },
     "execution_count": 56,
     "metadata": {},
     "output_type": "execute_result"
    }
   ],
   "source": [
    "df_block_78_info.head(2)"
   ]
  },
  {
   "cell_type": "code",
   "execution_count": 57,
   "metadata": {},
   "outputs": [
    {
     "data": {
      "text/plain": [
       "array(['Adversity'], dtype=object)"
      ]
     },
     "execution_count": 57,
     "metadata": {},
     "output_type": "execute_result"
    }
   ],
   "source": [
    "df_block_78_info['Acorn_grouped'].unique()"
   ]
  },
  {
   "cell_type": "markdown",
   "metadata": {},
   "source": [
    "<font color='#114B5F'><b>Block 79 dataset</b> </font>"
   ]
  },
  {
   "cell_type": "code",
   "execution_count": 58,
   "metadata": {},
   "outputs": [],
   "source": [
    "# Reading block_79 data\n",
    "df_block_79 = pd.read_csv(\"FinalData_SmartMeter/block_79.csv\", engine='python')"
   ]
  },
  {
   "cell_type": "code",
   "execution_count": 59,
   "metadata": {},
   "outputs": [],
   "source": [
    "# Renaming the columns\n",
    "df_block_79.columns = ['LCLid', 'DateTime', 'KWh']"
   ]
  },
  {
   "cell_type": "code",
   "execution_count": 60,
   "metadata": {},
   "outputs": [],
   "source": [
    "# Creating date, time related columns\n",
    "df_block_79['DateTime'] = pd.to_datetime(df_block_79['DateTime'])\n",
    "df_block_79['year'] = df_block_79['DateTime'].dt.year\n",
    "df_block_79['month'] = df_block_79['DateTime'].dt.month\n",
    "df_block_79['day'] = df_block_79['DateTime'].dt.day\n",
    "df_block_79['hour'] = df_block_79['DateTime'].dt.hour\n",
    "df_block_79['date'] = df_block_79['DateTime'].dt.date"
   ]
  },
  {
   "cell_type": "code",
   "execution_count": 61,
   "metadata": {},
   "outputs": [],
   "source": [
    "# Creating time column which has time in 12 hour with AM/PM format\n",
    "df_block_79['time'] = df_block_79['DateTime'].dt.time.apply(lambda x: x.strftime(format))"
   ]
  },
  {
   "cell_type": "markdown",
   "metadata": {},
   "source": [
    "<font color='#114B5F'><b>Merge Block 79 with Household_info </b> </font>"
   ]
  },
  {
   "cell_type": "code",
   "execution_count": 62,
   "metadata": {},
   "outputs": [],
   "source": [
    "df_block_79_info = df_block_79.merge(df_household,on='LCLid',how='left')"
   ]
  },
  {
   "cell_type": "code",
   "execution_count": 63,
   "metadata": {},
   "outputs": [],
   "source": [
    "df_block_79_info.drop(['file'], axis=1, inplace=True)"
   ]
  },
  {
   "cell_type": "code",
   "execution_count": 64,
   "metadata": {},
   "outputs": [],
   "source": [
    "# Cleaning: Converting 'ACORN-*' to '*'\n",
    "df_block_79_info['Acorn'] = df_block_79_info['Acorn'].str.replace('ACORN-', \"\")"
   ]
  },
  {
   "cell_type": "code",
   "execution_count": 65,
   "metadata": {},
   "outputs": [
    {
     "data": {
      "text/html": [
       "<div>\n",
       "<style scoped>\n",
       "    .dataframe tbody tr th:only-of-type {\n",
       "        vertical-align: middle;\n",
       "    }\n",
       "\n",
       "    .dataframe tbody tr th {\n",
       "        vertical-align: top;\n",
       "    }\n",
       "\n",
       "    .dataframe thead th {\n",
       "        text-align: right;\n",
       "    }\n",
       "</style>\n",
       "<table border=\"1\" class=\"dataframe\">\n",
       "  <thead>\n",
       "    <tr style=\"text-align: right;\">\n",
       "      <th></th>\n",
       "      <th>LCLid</th>\n",
       "      <th>DateTime</th>\n",
       "      <th>KWh</th>\n",
       "      <th>year</th>\n",
       "      <th>month</th>\n",
       "      <th>day</th>\n",
       "      <th>hour</th>\n",
       "      <th>date</th>\n",
       "      <th>time</th>\n",
       "      <th>stdorToU</th>\n",
       "      <th>Acorn</th>\n",
       "      <th>Acorn_grouped</th>\n",
       "    </tr>\n",
       "  </thead>\n",
       "  <tbody>\n",
       "    <tr>\n",
       "      <th>0</th>\n",
       "      <td>MAC000014</td>\n",
       "      <td>2012-10-15 11:30:00</td>\n",
       "      <td>0.178</td>\n",
       "      <td>2012</td>\n",
       "      <td>10</td>\n",
       "      <td>15</td>\n",
       "      <td>11</td>\n",
       "      <td>2012-10-15</td>\n",
       "      <td>11:30 AM</td>\n",
       "      <td>ToU</td>\n",
       "      <td>L</td>\n",
       "      <td>Adversity</td>\n",
       "    </tr>\n",
       "    <tr>\n",
       "      <th>1</th>\n",
       "      <td>MAC000014</td>\n",
       "      <td>2012-10-15 12:00:00</td>\n",
       "      <td>0.064</td>\n",
       "      <td>2012</td>\n",
       "      <td>10</td>\n",
       "      <td>15</td>\n",
       "      <td>12</td>\n",
       "      <td>2012-10-15</td>\n",
       "      <td>12:00 PM</td>\n",
       "      <td>ToU</td>\n",
       "      <td>L</td>\n",
       "      <td>Adversity</td>\n",
       "    </tr>\n",
       "  </tbody>\n",
       "</table>\n",
       "</div>"
      ],
      "text/plain": [
       "       LCLid            DateTime      KWh  year  month  day  hour        date  \\\n",
       "0  MAC000014 2012-10-15 11:30:00   0.178   2012     10   15    11  2012-10-15   \n",
       "1  MAC000014 2012-10-15 12:00:00   0.064   2012     10   15    12  2012-10-15   \n",
       "\n",
       "       time stdorToU Acorn Acorn_grouped  \n",
       "0  11:30 AM      ToU     L     Adversity  \n",
       "1  12:00 PM      ToU     L     Adversity  "
      ]
     },
     "execution_count": 65,
     "metadata": {},
     "output_type": "execute_result"
    }
   ],
   "source": [
    "df_block_79_info.head(2)"
   ]
  },
  {
   "cell_type": "code",
   "execution_count": 66,
   "metadata": {},
   "outputs": [
    {
     "data": {
      "text/plain": [
       "array(['Adversity'], dtype=object)"
      ]
     },
     "execution_count": 66,
     "metadata": {},
     "output_type": "execute_result"
    }
   ],
   "source": [
    "df_block_79_info.Acorn_grouped.unique()"
   ]
  },
  {
   "cell_type": "markdown",
   "metadata": {},
   "source": [
    "<font color='#114B5F'><b>Block 80 dataset</b> </font>"
   ]
  },
  {
   "cell_type": "code",
   "execution_count": 67,
   "metadata": {},
   "outputs": [],
   "source": [
    "# Reading block_80 data\n",
    "df_block_80 = pd.read_csv(\"FinalData_SmartMeter/block_80.csv\", engine='python')"
   ]
  },
  {
   "cell_type": "code",
   "execution_count": 68,
   "metadata": {},
   "outputs": [],
   "source": [
    "# Renaming columns\n",
    "df_block_80.columns = ['LCLid', 'DateTime', 'KWh']"
   ]
  },
  {
   "cell_type": "code",
   "execution_count": 69,
   "metadata": {},
   "outputs": [],
   "source": [
    "# Creating date, time related columns\n",
    "df_block_80['DateTime'] = pd.to_datetime(df_block_80['DateTime'])\n",
    "df_block_80['year'] = df_block_80['DateTime'].dt.year\n",
    "df_block_80['month'] = df_block_80['DateTime'].dt.month\n",
    "df_block_80['day'] = df_block_80['DateTime'].dt.day\n",
    "df_block_80['hour'] = df_block_80['DateTime'].dt.hour\n",
    "df_block_80['date'] = df_block_80['DateTime'].dt.date"
   ]
  },
  {
   "cell_type": "code",
   "execution_count": 70,
   "metadata": {},
   "outputs": [],
   "source": [
    "# Creating time column which has time in 12 hour with AM/PM format\n",
    "df_block_80['time'] = df_block_80['DateTime'].dt.time.apply(lambda x: x.strftime(format))"
   ]
  },
  {
   "cell_type": "markdown",
   "metadata": {},
   "source": [
    "<font color='#114B5F'><b>Merge Block 80 with Household_info</b> </font>"
   ]
  },
  {
   "cell_type": "code",
   "execution_count": 71,
   "metadata": {},
   "outputs": [],
   "source": [
    "df_block_80_info = df_block_80.merge(df_household, on='LCLid', how='left')"
   ]
  },
  {
   "cell_type": "code",
   "execution_count": 72,
   "metadata": {},
   "outputs": [],
   "source": [
    "df_block_80_info.drop(['file'], axis=1, inplace=True)"
   ]
  },
  {
   "cell_type": "code",
   "execution_count": 73,
   "metadata": {},
   "outputs": [],
   "source": [
    "# Cleaning: Converting 'ACORN-*' to '*'\n",
    "df_block_80_info['Acorn'] = df_block_80_info['Acorn'].str.replace('ACORN-', \"\")"
   ]
  },
  {
   "cell_type": "code",
   "execution_count": 74,
   "metadata": {},
   "outputs": [
    {
     "data": {
      "text/html": [
       "<div>\n",
       "<style scoped>\n",
       "    .dataframe tbody tr th:only-of-type {\n",
       "        vertical-align: middle;\n",
       "    }\n",
       "\n",
       "    .dataframe tbody tr th {\n",
       "        vertical-align: top;\n",
       "    }\n",
       "\n",
       "    .dataframe thead th {\n",
       "        text-align: right;\n",
       "    }\n",
       "</style>\n",
       "<table border=\"1\" class=\"dataframe\">\n",
       "  <thead>\n",
       "    <tr style=\"text-align: right;\">\n",
       "      <th></th>\n",
       "      <th>LCLid</th>\n",
       "      <th>DateTime</th>\n",
       "      <th>KWh</th>\n",
       "      <th>year</th>\n",
       "      <th>month</th>\n",
       "      <th>day</th>\n",
       "      <th>hour</th>\n",
       "      <th>date</th>\n",
       "      <th>time</th>\n",
       "      <th>stdorToU</th>\n",
       "      <th>Acorn</th>\n",
       "      <th>Acorn_grouped</th>\n",
       "    </tr>\n",
       "  </thead>\n",
       "  <tbody>\n",
       "    <tr>\n",
       "      <th>0</th>\n",
       "      <td>MAC000038</td>\n",
       "      <td>2011-12-08 09:00:00</td>\n",
       "      <td>0.075</td>\n",
       "      <td>2011</td>\n",
       "      <td>12</td>\n",
       "      <td>8</td>\n",
       "      <td>9</td>\n",
       "      <td>2011-12-08</td>\n",
       "      <td>09:00 AM</td>\n",
       "      <td>Std</td>\n",
       "      <td>L</td>\n",
       "      <td>Adversity</td>\n",
       "    </tr>\n",
       "    <tr>\n",
       "      <th>1</th>\n",
       "      <td>MAC000038</td>\n",
       "      <td>2011-12-08 09:30:00</td>\n",
       "      <td>0.081</td>\n",
       "      <td>2011</td>\n",
       "      <td>12</td>\n",
       "      <td>8</td>\n",
       "      <td>9</td>\n",
       "      <td>2011-12-08</td>\n",
       "      <td>09:30 AM</td>\n",
       "      <td>Std</td>\n",
       "      <td>L</td>\n",
       "      <td>Adversity</td>\n",
       "    </tr>\n",
       "  </tbody>\n",
       "</table>\n",
       "</div>"
      ],
      "text/plain": [
       "       LCLid            DateTime      KWh  year  month  day  hour        date  \\\n",
       "0  MAC000038 2011-12-08 09:00:00   0.075   2011     12    8     9  2011-12-08   \n",
       "1  MAC000038 2011-12-08 09:30:00   0.081   2011     12    8     9  2011-12-08   \n",
       "\n",
       "       time stdorToU Acorn Acorn_grouped  \n",
       "0  09:00 AM      Std     L     Adversity  \n",
       "1  09:30 AM      Std     L     Adversity  "
      ]
     },
     "execution_count": 74,
     "metadata": {},
     "output_type": "execute_result"
    }
   ],
   "source": [
    "df_block_80_info.head(2)\n"
   ]
  },
  {
   "cell_type": "code",
   "execution_count": 75,
   "metadata": {},
   "outputs": [
    {
     "data": {
      "text/plain": [
       "array(['Adversity'], dtype=object)"
      ]
     },
     "execution_count": 75,
     "metadata": {},
     "output_type": "execute_result"
    }
   ],
   "source": [
    "df_block_80_info['Acorn_grouped'].unique()"
   ]
  },
  {
   "cell_type": "markdown",
   "metadata": {},
   "source": [
    "<font color='#114B5F'><b>Block 95 dataset</b> </font>"
   ]
  },
  {
   "cell_type": "code",
   "execution_count": 76,
   "metadata": {},
   "outputs": [],
   "source": [
    "# Reading block_95 data\n",
    "df_block_95 = pd.read_csv(\"FinalData_SmartMeter/block_95.csv\", engine='python')"
   ]
  },
  {
   "cell_type": "code",
   "execution_count": 77,
   "metadata": {},
   "outputs": [],
   "source": [
    "# Renaming the columns\n",
    "df_block_95.columns = ['LCLid', 'DateTime', 'KWh']"
   ]
  },
  {
   "cell_type": "code",
   "execution_count": 78,
   "metadata": {},
   "outputs": [],
   "source": [
    "# Creating date, time related columns\n",
    "df_block_95['DateTime'] = pd.to_datetime(df_block_95['DateTime'])\n",
    "df_block_95['year'] = df_block_95['DateTime'].dt.year\n",
    "df_block_95['month'] = df_block_95['DateTime'].dt.month\n",
    "df_block_95['day'] = df_block_95['DateTime'].dt.day\n",
    "df_block_95['hour'] = df_block_95['DateTime'].dt.hour\n",
    "df_block_95['date'] = df_block_95['DateTime'].dt.date"
   ]
  },
  {
   "cell_type": "code",
   "execution_count": 79,
   "metadata": {},
   "outputs": [],
   "source": [
    "# Creating time column which has time in 12 hour with AM/PM format\n",
    "df_block_95['time'] = df_block_95['DateTime'].dt.time.apply(lambda x: x.strftime(format))"
   ]
  },
  {
   "cell_type": "markdown",
   "metadata": {},
   "source": [
    "<font color='#114B5F'><b>Merge Block 95 with Household_info </b> </font>"
   ]
  },
  {
   "cell_type": "code",
   "execution_count": 80,
   "metadata": {},
   "outputs": [],
   "source": [
    "df_block_95_info = df_block_95.merge(df_household, on='LCLid', how='left')"
   ]
  },
  {
   "cell_type": "code",
   "execution_count": 81,
   "metadata": {},
   "outputs": [],
   "source": [
    "df_block_95_info.drop(['file'], axis=1, inplace=True)"
   ]
  },
  {
   "cell_type": "code",
   "execution_count": 82,
   "metadata": {},
   "outputs": [],
   "source": [
    "# Cleaning: Converting 'ACORN-*' to '*'\n",
    "df_block_95_info['Acorn'] = df_block_95_info['Acorn'].str.replace('ACORN-', \"\")"
   ]
  },
  {
   "cell_type": "code",
   "execution_count": 83,
   "metadata": {},
   "outputs": [
    {
     "data": {
      "text/html": [
       "<div>\n",
       "<style scoped>\n",
       "    .dataframe tbody tr th:only-of-type {\n",
       "        vertical-align: middle;\n",
       "    }\n",
       "\n",
       "    .dataframe tbody tr th {\n",
       "        vertical-align: top;\n",
       "    }\n",
       "\n",
       "    .dataframe thead th {\n",
       "        text-align: right;\n",
       "    }\n",
       "</style>\n",
       "<table border=\"1\" class=\"dataframe\">\n",
       "  <thead>\n",
       "    <tr style=\"text-align: right;\">\n",
       "      <th></th>\n",
       "      <th>LCLid</th>\n",
       "      <th>DateTime</th>\n",
       "      <th>KWh</th>\n",
       "      <th>year</th>\n",
       "      <th>month</th>\n",
       "      <th>day</th>\n",
       "      <th>hour</th>\n",
       "      <th>date</th>\n",
       "      <th>time</th>\n",
       "      <th>stdorToU</th>\n",
       "      <th>Acorn</th>\n",
       "      <th>Acorn_grouped</th>\n",
       "    </tr>\n",
       "  </thead>\n",
       "  <tbody>\n",
       "    <tr>\n",
       "      <th>0</th>\n",
       "      <td>MAC000006</td>\n",
       "      <td>2012-01-30 11:30:00</td>\n",
       "      <td>0.096</td>\n",
       "      <td>2012</td>\n",
       "      <td>1</td>\n",
       "      <td>30</td>\n",
       "      <td>11</td>\n",
       "      <td>2012-01-30</td>\n",
       "      <td>11:30 AM</td>\n",
       "      <td>Std</td>\n",
       "      <td>Q</td>\n",
       "      <td>Adversity</td>\n",
       "    </tr>\n",
       "    <tr>\n",
       "      <th>1</th>\n",
       "      <td>MAC000006</td>\n",
       "      <td>2012-01-30 12:00:00</td>\n",
       "      <td>0.101</td>\n",
       "      <td>2012</td>\n",
       "      <td>1</td>\n",
       "      <td>30</td>\n",
       "      <td>12</td>\n",
       "      <td>2012-01-30</td>\n",
       "      <td>12:00 PM</td>\n",
       "      <td>Std</td>\n",
       "      <td>Q</td>\n",
       "      <td>Adversity</td>\n",
       "    </tr>\n",
       "  </tbody>\n",
       "</table>\n",
       "</div>"
      ],
      "text/plain": [
       "       LCLid            DateTime      KWh  year  month  day  hour        date  \\\n",
       "0  MAC000006 2012-01-30 11:30:00   0.096   2012      1   30    11  2012-01-30   \n",
       "1  MAC000006 2012-01-30 12:00:00   0.101   2012      1   30    12  2012-01-30   \n",
       "\n",
       "       time stdorToU Acorn Acorn_grouped  \n",
       "0  11:30 AM      Std     Q     Adversity  \n",
       "1  12:00 PM      Std     Q     Adversity  "
      ]
     },
     "execution_count": 83,
     "metadata": {},
     "output_type": "execute_result"
    }
   ],
   "source": [
    "df_block_95_info.head(2)"
   ]
  },
  {
   "cell_type": "code",
   "execution_count": 84,
   "metadata": {},
   "outputs": [
    {
     "data": {
      "text/plain": [
       "array(['Adversity'], dtype=object)"
      ]
     },
     "execution_count": 84,
     "metadata": {},
     "output_type": "execute_result"
    }
   ],
   "source": [
    "df_block_95_info['Acorn_grouped'].unique()"
   ]
  },
  {
   "cell_type": "markdown",
   "metadata": {},
   "source": [
    "<font color='#114B5F'><b>Block 96 dataset</b> </font>"
   ]
  },
  {
   "cell_type": "code",
   "execution_count": 85,
   "metadata": {},
   "outputs": [],
   "source": [
    "# Reading block_96 data\n",
    "df_block_96 = pd.read_csv(\"FinalData_SmartMeter/block_96.csv\", engine='python')"
   ]
  },
  {
   "cell_type": "code",
   "execution_count": 86,
   "metadata": {},
   "outputs": [],
   "source": [
    "# Renaming the columns\n",
    "df_block_96.columns = ['LCLid', 'DateTime', 'KWh']"
   ]
  },
  {
   "cell_type": "code",
   "execution_count": 87,
   "metadata": {},
   "outputs": [],
   "source": [
    "# Creating date, time related columns\n",
    "df_block_96['DateTime'] = pd.to_datetime(df_block_96['DateTime'])\n",
    "df_block_96['year'] = df_block_96['DateTime'].dt.year\n",
    "df_block_96['month'] = df_block_96['DateTime'].dt.month\n",
    "df_block_96['day'] = df_block_96['DateTime'].dt.day\n",
    "df_block_96['hour'] = df_block_96['DateTime'].dt.hour\n",
    "df_block_96['date'] = df_block_96['DateTime'].dt.date"
   ]
  },
  {
   "cell_type": "code",
   "execution_count": 88,
   "metadata": {},
   "outputs": [],
   "source": [
    "# Creating time column which has time in 12 hour with AM/PM format\n",
    "df_block_96['time'] = df_block_96['DateTime'].dt.time.apply(lambda x: x.strftime(format))"
   ]
  },
  {
   "cell_type": "markdown",
   "metadata": {},
   "source": [
    "<font color='#114B5F'><b>Merge Block 96 with Household_info </b> </font>"
   ]
  },
  {
   "cell_type": "code",
   "execution_count": 89,
   "metadata": {},
   "outputs": [],
   "source": [
    "df_block_96_info = df_block_96.merge(df_household, on='LCLid', how='left')"
   ]
  },
  {
   "cell_type": "code",
   "execution_count": 90,
   "metadata": {},
   "outputs": [],
   "source": [
    "df_block_96_info.drop(['file'], axis=1, inplace=True)"
   ]
  },
  {
   "cell_type": "code",
   "execution_count": 91,
   "metadata": {},
   "outputs": [],
   "source": [
    "# Cleaning: Converting 'ACORN-*' to '*'\n",
    "df_block_96_info['Acorn'] = df_block_96_info['Acorn'].str.replace('ACORN-', \"\")"
   ]
  },
  {
   "cell_type": "code",
   "execution_count": 92,
   "metadata": {},
   "outputs": [
    {
     "data": {
      "text/html": [
       "<div>\n",
       "<style scoped>\n",
       "    .dataframe tbody tr th:only-of-type {\n",
       "        vertical-align: middle;\n",
       "    }\n",
       "\n",
       "    .dataframe tbody tr th {\n",
       "        vertical-align: top;\n",
       "    }\n",
       "\n",
       "    .dataframe thead th {\n",
       "        text-align: right;\n",
       "    }\n",
       "</style>\n",
       "<table border=\"1\" class=\"dataframe\">\n",
       "  <thead>\n",
       "    <tr style=\"text-align: right;\">\n",
       "      <th></th>\n",
       "      <th>LCLid</th>\n",
       "      <th>DateTime</th>\n",
       "      <th>KWh</th>\n",
       "      <th>year</th>\n",
       "      <th>month</th>\n",
       "      <th>day</th>\n",
       "      <th>hour</th>\n",
       "      <th>date</th>\n",
       "      <th>time</th>\n",
       "      <th>stdorToU</th>\n",
       "      <th>Acorn</th>\n",
       "      <th>Acorn_grouped</th>\n",
       "    </tr>\n",
       "  </thead>\n",
       "  <tbody>\n",
       "    <tr>\n",
       "      <th>0</th>\n",
       "      <td>MAC000054</td>\n",
       "      <td>2011-12-09 09:00:00</td>\n",
       "      <td>0.161</td>\n",
       "      <td>2011</td>\n",
       "      <td>12</td>\n",
       "      <td>9</td>\n",
       "      <td>9</td>\n",
       "      <td>2011-12-09</td>\n",
       "      <td>09:00 AM</td>\n",
       "      <td>Std</td>\n",
       "      <td>Q</td>\n",
       "      <td>Adversity</td>\n",
       "    </tr>\n",
       "    <tr>\n",
       "      <th>1</th>\n",
       "      <td>MAC000054</td>\n",
       "      <td>2011-12-09 09:30:00</td>\n",
       "      <td>0.104</td>\n",
       "      <td>2011</td>\n",
       "      <td>12</td>\n",
       "      <td>9</td>\n",
       "      <td>9</td>\n",
       "      <td>2011-12-09</td>\n",
       "      <td>09:30 AM</td>\n",
       "      <td>Std</td>\n",
       "      <td>Q</td>\n",
       "      <td>Adversity</td>\n",
       "    </tr>\n",
       "  </tbody>\n",
       "</table>\n",
       "</div>"
      ],
      "text/plain": [
       "       LCLid            DateTime      KWh  year  month  day  hour        date  \\\n",
       "0  MAC000054 2011-12-09 09:00:00   0.161   2011     12    9     9  2011-12-09   \n",
       "1  MAC000054 2011-12-09 09:30:00   0.104   2011     12    9     9  2011-12-09   \n",
       "\n",
       "       time stdorToU Acorn Acorn_grouped  \n",
       "0  09:00 AM      Std     Q     Adversity  \n",
       "1  09:30 AM      Std     Q     Adversity  "
      ]
     },
     "execution_count": 92,
     "metadata": {},
     "output_type": "execute_result"
    }
   ],
   "source": [
    "df_block_96_info.head(2)"
   ]
  },
  {
   "cell_type": "code",
   "execution_count": 93,
   "metadata": {},
   "outputs": [
    {
     "data": {
      "text/plain": [
       "array(['Adversity'], dtype=object)"
      ]
     },
     "execution_count": 93,
     "metadata": {},
     "output_type": "execute_result"
    }
   ],
   "source": [
    "df_block_96_info['Acorn_grouped'].unique()"
   ]
  },
  {
   "cell_type": "markdown",
   "metadata": {},
   "source": [
    "<font color='#114B5F'><b>Block 105 dataset </b> </font>"
   ]
  },
  {
   "cell_type": "code",
   "execution_count": 94,
   "metadata": {},
   "outputs": [],
   "source": [
    "# Reading block_105 data\n",
    "df_block_105 = pd.read_csv(\"FinalData_SmartMeter/block_105.csv\", engine='python')"
   ]
  },
  {
   "cell_type": "code",
   "execution_count": 95,
   "metadata": {},
   "outputs": [],
   "source": [
    "# Renaming the columns\n",
    "df_block_105.columns = ['LCLid', 'DateTime', 'KWh']"
   ]
  },
  {
   "cell_type": "code",
   "execution_count": 96,
   "metadata": {},
   "outputs": [],
   "source": [
    "# Creating date, time related columns\n",
    "df_block_105['DateTime'] = pd.to_datetime(df_block_105['DateTime'])\n",
    "df_block_105['year'] = df_block_105['DateTime'].dt.year\n",
    "df_block_105['month'] = df_block_105['DateTime'].dt.month\n",
    "df_block_105['day'] = df_block_105['DateTime'].dt.day\n",
    "df_block_105['hour'] = df_block_105['DateTime'].dt.hour\n",
    "df_block_105['date'] = df_block_105['DateTime'].dt.date"
   ]
  },
  {
   "cell_type": "code",
   "execution_count": 97,
   "metadata": {},
   "outputs": [],
   "source": [
    "# Creating time column which has time in 12 hour with AM/PM format\n",
    "df_block_105['time'] = df_block_105['DateTime'].dt.time.apply(lambda x: x.strftime(format))"
   ]
  },
  {
   "cell_type": "markdown",
   "metadata": {},
   "source": [
    "<font color='#114B5F'><b>Merge Block 105 with Household_info </b> </font>"
   ]
  },
  {
   "cell_type": "code",
   "execution_count": 98,
   "metadata": {},
   "outputs": [],
   "source": [
    "df_block_105_info = df_block_105.merge(df_household, on='LCLid', how='left')"
   ]
  },
  {
   "cell_type": "code",
   "execution_count": 99,
   "metadata": {},
   "outputs": [],
   "source": [
    "df_block_105_info.drop(['file'], axis=1, inplace=True)"
   ]
  },
  {
   "cell_type": "code",
   "execution_count": 100,
   "metadata": {},
   "outputs": [],
   "source": [
    "# Cleaning: Converting 'ACORN-*' to '*'\n",
    "df_block_105_info['Acorn'] = df_block_105_info['Acorn'].str.replace('ACORN-', \"\")"
   ]
  },
  {
   "cell_type": "code",
   "execution_count": 101,
   "metadata": {},
   "outputs": [
    {
     "data": {
      "text/html": [
       "<div>\n",
       "<style scoped>\n",
       "    .dataframe tbody tr th:only-of-type {\n",
       "        vertical-align: middle;\n",
       "    }\n",
       "\n",
       "    .dataframe tbody tr th {\n",
       "        vertical-align: top;\n",
       "    }\n",
       "\n",
       "    .dataframe thead th {\n",
       "        text-align: right;\n",
       "    }\n",
       "</style>\n",
       "<table border=\"1\" class=\"dataframe\">\n",
       "  <thead>\n",
       "    <tr style=\"text-align: right;\">\n",
       "      <th></th>\n",
       "      <th>LCLid</th>\n",
       "      <th>DateTime</th>\n",
       "      <th>KWh</th>\n",
       "      <th>year</th>\n",
       "      <th>month</th>\n",
       "      <th>day</th>\n",
       "      <th>hour</th>\n",
       "      <th>date</th>\n",
       "      <th>time</th>\n",
       "      <th>stdorToU</th>\n",
       "      <th>Acorn</th>\n",
       "      <th>Acorn_grouped</th>\n",
       "    </tr>\n",
       "  </thead>\n",
       "  <tbody>\n",
       "    <tr>\n",
       "      <th>0</th>\n",
       "      <td>MAC000092</td>\n",
       "      <td>2011-12-12 10:30:00</td>\n",
       "      <td>0.502</td>\n",
       "      <td>2011</td>\n",
       "      <td>12</td>\n",
       "      <td>12</td>\n",
       "      <td>10</td>\n",
       "      <td>2011-12-12</td>\n",
       "      <td>10:30 AM</td>\n",
       "      <td>Std</td>\n",
       "      <td>Q</td>\n",
       "      <td>Adversity</td>\n",
       "    </tr>\n",
       "    <tr>\n",
       "      <th>1</th>\n",
       "      <td>MAC000092</td>\n",
       "      <td>2011-12-12 11:00:00</td>\n",
       "      <td>0.098</td>\n",
       "      <td>2011</td>\n",
       "      <td>12</td>\n",
       "      <td>12</td>\n",
       "      <td>11</td>\n",
       "      <td>2011-12-12</td>\n",
       "      <td>11:00 AM</td>\n",
       "      <td>Std</td>\n",
       "      <td>Q</td>\n",
       "      <td>Adversity</td>\n",
       "    </tr>\n",
       "  </tbody>\n",
       "</table>\n",
       "</div>"
      ],
      "text/plain": [
       "       LCLid            DateTime      KWh  year  month  day  hour        date  \\\n",
       "0  MAC000092 2011-12-12 10:30:00   0.502   2011     12   12    10  2011-12-12   \n",
       "1  MAC000092 2011-12-12 11:00:00   0.098   2011     12   12    11  2011-12-12   \n",
       "\n",
       "       time stdorToU Acorn Acorn_grouped  \n",
       "0  10:30 AM      Std     Q     Adversity  \n",
       "1  11:00 AM      Std     Q     Adversity  "
      ]
     },
     "execution_count": 101,
     "metadata": {},
     "output_type": "execute_result"
    }
   ],
   "source": [
    "df_block_105_info.head(2)"
   ]
  },
  {
   "cell_type": "code",
   "execution_count": 102,
   "metadata": {},
   "outputs": [
    {
     "data": {
      "text/plain": [
       "array(['Adversity'], dtype=object)"
      ]
     },
     "execution_count": 102,
     "metadata": {},
     "output_type": "execute_result"
    }
   ],
   "source": [
    "df_block_105_info['Acorn_grouped'].unique()"
   ]
  },
  {
   "cell_type": "markdown",
   "metadata": {},
   "source": [
    "<font color='#114B5F'><b>Final dataset after merging Block 0/2/4/62/78/79/80/95/96/105</b> </font> "
   ]
  },
  {
   "cell_type": "code",
   "execution_count": 103,
   "metadata": {},
   "outputs": [],
   "source": [
    "df_2 = df_block_2_info[df_block_2_info['stdorToU']=='ToU']"
   ]
  },
  {
   "cell_type": "code",
   "execution_count": 104,
   "metadata": {},
   "outputs": [],
   "source": [
    "df_4 = df_block_4_info[df_block_4_info['stdorToU']=='ToU']"
   ]
  },
  {
   "cell_type": "code",
   "execution_count": 105,
   "metadata": {},
   "outputs": [],
   "source": [
    "df_62 = df_block_62_info[df_block_62_info['stdorToU']=='ToU']"
   ]
  },
  {
   "cell_type": "code",
   "execution_count": 106,
   "metadata": {},
   "outputs": [],
   "source": [
    "df_78 = df_block_78_info[df_block_78_info['stdorToU']=='ToU']"
   ]
  },
  {
   "cell_type": "code",
   "execution_count": 107,
   "metadata": {},
   "outputs": [],
   "source": [
    "df_79 = df_block_79_info[df_block_79_info['stdorToU']=='ToU']"
   ]
  },
  {
   "cell_type": "code",
   "execution_count": 108,
   "metadata": {},
   "outputs": [],
   "source": [
    "df_80 = df_block_80_info[df_block_80_info['stdorToU']=='ToU']"
   ]
  },
  {
   "cell_type": "code",
   "execution_count": 109,
   "metadata": {},
   "outputs": [],
   "source": [
    "df_95 = df_block_95_info[df_block_95_info['stdorToU']=='ToU']"
   ]
  },
  {
   "cell_type": "code",
   "execution_count": 110,
   "metadata": {},
   "outputs": [],
   "source": [
    "df_96 = df_block_96_info[df_block_96_info['stdorToU']=='ToU']"
   ]
  },
  {
   "cell_type": "code",
   "execution_count": 111,
   "metadata": {},
   "outputs": [],
   "source": [
    "df_105 = df_block_105_info[df_block_105_info['stdorToU']=='ToU']"
   ]
  },
  {
   "cell_type": "code",
   "execution_count": 112,
   "metadata": {},
   "outputs": [],
   "source": [
    "df_final_data = pd.concat([df_2, df_4, df_62, df_78, df_79, df_80, df_95, df_96, df_105, df_block_0_info])"
   ]
  },
  {
   "cell_type": "code",
   "execution_count": 113,
   "metadata": {},
   "outputs": [],
   "source": [
    "# Renaming a column\n",
    "df_final_data = df_final_data.rename(columns={'stdorToU' : 'Std or ToU tariff'})"
   ]
  },
  {
   "cell_type": "code",
   "execution_count": 114,
   "metadata": {},
   "outputs": [
    {
     "data": {
      "text/plain": [
       "174"
      ]
     },
     "execution_count": 114,
     "metadata": {},
     "output_type": "execute_result"
    }
   ],
   "source": [
    "# Number of households using Dynamic Time of Use tariff plan\n",
    "df_final_data[df_final_data['Std or ToU tariff']=='ToU']['LCLid'].nunique()"
   ]
  },
  {
   "cell_type": "code",
   "execution_count": 115,
   "metadata": {},
   "outputs": [
    {
     "data": {
      "text/plain": [
       "388"
      ]
     },
     "execution_count": 115,
     "metadata": {},
     "output_type": "execute_result"
    }
   ],
   "source": [
    "# Number of households using Standard tariff plan\n",
    "df_final_data[df_final_data['Std or ToU tariff']=='Std']['LCLid'].nunique()"
   ]
  },
  {
   "cell_type": "code",
   "execution_count": 116,
   "metadata": {},
   "outputs": [],
   "source": [
    "# Creating a column with quarter information\n",
    "df_final_data['quarter'] = df_final_data['DateTime'].dt.quarter"
   ]
  },
  {
   "cell_type": "code",
   "execution_count": 117,
   "metadata": {},
   "outputs": [],
   "source": [
    "df_final_data['quarter'] = df_final_data['year'].astype(str) +' Q'+ df_final_data['quarter'].astype(str)"
   ]
  },
  {
   "cell_type": "code",
   "execution_count": 118,
   "metadata": {},
   "outputs": [],
   "source": [
    "#Converting string to numeric type\n",
    "df_final_data['KWh'] = df_final_data['KWh'].convert_objects(convert_numeric=True)"
   ]
  },
  {
   "cell_type": "code",
   "execution_count": 119,
   "metadata": {},
   "outputs": [],
   "source": [
    "# Creating a CSV file.\n",
    "df_final_data.to_csv(\"final.csv\", sep=',', index=False, encoding='utf-8')"
   ]
  }
 ],
 "metadata": {
  "kernelspec": {
   "display_name": "Python 3",
   "language": "python",
   "name": "python3"
  },
  "language_info": {
   "codemirror_mode": {
    "name": "ipython",
    "version": 3
   },
   "file_extension": ".py",
   "mimetype": "text/x-python",
   "name": "python",
   "nbconvert_exporter": "python",
   "pygments_lexer": "ipython3",
   "version": "3.6.5"
  }
 },
 "nbformat": 4,
 "nbformat_minor": 2
}
